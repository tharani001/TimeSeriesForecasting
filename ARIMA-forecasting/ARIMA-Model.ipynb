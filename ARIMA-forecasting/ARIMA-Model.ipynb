{
 "cells": [
  {
   "cell_type": "markdown",
   "metadata": {},
   "source": [
    "#### AR(p), MA(q), ARMA(p,q) model assume stationarity. we can use this model only when the data is stationary in nature, if not `we apply transformations`.That also means, we need to `inverse the transformations of our forecasts.`"
   ]
  },
  {
   "cell_type": "markdown",
   "metadata": {},
   "source": [
    "### We have ARIMA model which can take `Non-stationary` data and avoid having to perform transformations.\n",
    "\n",
    "### `ARIMA is great for non-stationary data because it actually differences the series internally.`"
   ]
  },
  {
   "cell_type": "code",
   "execution_count": null,
   "metadata": {},
   "outputs": [],
   "source": []
  },
  {
   "cell_type": "code",
   "execution_count": null,
   "metadata": {},
   "outputs": [],
   "source": []
  },
  {
   "cell_type": "code",
   "execution_count": null,
   "metadata": {},
   "outputs": [],
   "source": []
  }
 ],
 "metadata": {
  "kernelspec": {
   "display_name": "tf_env",
   "language": "python",
   "name": "python3"
  },
  "language_info": {
   "name": "python",
   "version": "3.9.7"
  }
 },
 "nbformat": 4,
 "nbformat_minor": 2
}
